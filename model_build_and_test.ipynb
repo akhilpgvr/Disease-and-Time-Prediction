{
  "nbformat": 4,
  "nbformat_minor": 0,
  "metadata": {
    "colab": {
      "provenance": []
    },
    "kernelspec": {
      "name": "python3",
      "display_name": "Python 3"
    },
    "language_info": {
      "name": "python"
    }
  },
  "cells": [
    {
      "cell_type": "code",
      "execution_count": 2,
      "metadata": {
        "colab": {
          "base_uri": "https://localhost:8080/"
        },
        "id": "npZAaUpRVijD",
        "outputId": "447a97eb-1c06-411c-a157-09ff54804367"
      },
      "outputs": [
        {
          "output_type": "stream",
          "name": "stdout",
          "text": [
            "Models and label encoder saved successfully!\n"
          ]
        }
      ],
      "source": [
        "import pandas as pd\n",
        "import xgboost as xgb\n",
        "from sklearn.preprocessing import LabelEncoder\n",
        "import joblib\n",
        "\n",
        "# Train models and save them\n",
        "def train_and_save_models(train_file='Training_with_estimated_time.csv'):\n",
        "    # Load training data\n",
        "    train_data = pd.read_csv(train_file)\n",
        "\n",
        "    # Features and target columns\n",
        "    X_train = train_data.drop(columns=['prognosis', 'estimated_time'])\n",
        "    y_train_prognosis = train_data['prognosis']\n",
        "    y_train_time = train_data['estimated_time']\n",
        "\n",
        "    # Encode prognosis labels\n",
        "    label_encoder = LabelEncoder()\n",
        "    y_train_prognosis_encoded = label_encoder.fit_transform(y_train_prognosis)\n",
        "\n",
        "    # Train models\n",
        "    model_prognosis = xgb.XGBClassifier()\n",
        "    model_prognosis.fit(X_train, y_train_prognosis_encoded)\n",
        "\n",
        "    model_time = xgb.XGBRegressor()\n",
        "    model_time.fit(X_train, y_train_time)\n",
        "\n",
        "    # Save models and label encoder\n",
        "    joblib.dump(model_prognosis, 'model_prognosis.pkl')\n",
        "    joblib.dump(model_time, 'model_time.pkl')\n",
        "    joblib.dump(label_encoder, 'label_encoder.pkl')\n",
        "\n",
        "    print(\"Models and label encoder saved successfully!\")\n",
        "\n",
        "# Call this to train and save the models\n",
        "train_and_save_models()\n"
      ]
    },
    {
      "cell_type": "code",
      "source": [
        "import pandas as pd\n",
        "from sklearn.metrics import accuracy_score, mean_absolute_error\n",
        "import joblib\n",
        "\n",
        "# Load models and encoder\n",
        "model_prognosis = joblib.load('model_prognosis.pkl')\n",
        "model_time = joblib.load('model_time.pkl')\n",
        "label_encoder = joblib.load('label_encoder.pkl')\n",
        "\n",
        "# Evaluate models using Testing.csv\n",
        "def evaluate_models(test_file='Testing_with_estimated_time.csv'):\n",
        "    test_data = pd.read_csv(test_file)\n",
        "\n",
        "    # Prepare test inputs and true labels\n",
        "    X_test = test_data.drop(columns=['prognosis', 'estimated_time'])\n",
        "    y_test_prognosis = test_data['prognosis']\n",
        "    y_test_time = test_data['estimated_time']\n",
        "\n",
        "    # Encode prognosis labels\n",
        "    y_test_prognosis_encoded = label_encoder.transform(y_test_prognosis)\n",
        "\n",
        "    # Make predictions\n",
        "    y_pred_prognosis_encoded = model_prognosis.predict(X_test)\n",
        "    y_pred_prognosis = label_encoder.inverse_transform(y_pred_prognosis_encoded)\n",
        "    y_pred_time = model_time.predict(X_test)\n",
        "\n",
        "    # Calculate metrics\n",
        "    prognosis_accuracy = accuracy_score(y_test_prognosis_encoded, y_pred_prognosis_encoded)\n",
        "    time_mae = mean_absolute_error(y_test_time, y_pred_time)\n",
        "\n",
        "    print(f\"Prognosis Accuracy: {prognosis_accuracy * 100:.2f}%\")\n",
        "    print(f\"Mean Absolute Error for Estimated Time: {time_mae:.2f} minutes\")\n",
        "\n",
        "    # Display predictions\n",
        "    results = pd.DataFrame({\n",
        "        'Actual Prognosis': y_test_prognosis,\n",
        "        'Predicted Prognosis': y_pred_prognosis,\n",
        "        'Actual Estimated Time': y_test_time,\n",
        "        'Predicted Estimated Time': [round(time, 2) for time in y_pred_time]\n",
        "    })\n",
        "\n",
        "    print(\"\\nSample Predictions:\")\n",
        "    print(results.head())\n",
        "\n",
        "# Evaluate the models\n",
        "evaluate_models()\n",
        "\n"
      ],
      "metadata": {
        "colab": {
          "base_uri": "https://localhost:8080/"
        },
        "id": "V9vlMlOrWAEg",
        "outputId": "8033938d-c5d8-40be-f274-c8bcbee851a2"
      },
      "execution_count": 4,
      "outputs": [
        {
          "output_type": "stream",
          "name": "stdout",
          "text": [
            "Prognosis Accuracy: 97.62%\n",
            "Mean Absolute Error for Estimated Time: 0.22 minutes\n",
            "\n",
            "Sample Predictions:\n",
            "      Actual Prognosis  Predicted Prognosis  Actual Estimated Time  \\\n",
            "0     Fungal infection     Fungal infection                     10   \n",
            "1              Allergy              Allergy                     25   \n",
            "2                 GERD                 GERD                     30   \n",
            "3  Chronic cholestasis  Chronic cholestasis                     35   \n",
            "4        Drug Reaction        Drug Reaction                     20   \n",
            "\n",
            "   Predicted Estimated Time  \n",
            "0                      10.0  \n",
            "1                      25.0  \n",
            "2                      30.0  \n",
            "3                      35.0  \n",
            "4                      20.0  \n"
          ]
        }
      ]
    }
  ]
}